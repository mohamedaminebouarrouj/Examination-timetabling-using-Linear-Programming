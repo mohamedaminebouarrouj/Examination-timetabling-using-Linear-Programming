{
 "cells": [
  {
   "cell_type": "markdown",
   "metadata": {},
   "source": [
    "# Projet de programmation linéaire "
   ]
  },
  {
   "cell_type": "markdown",
   "metadata": {},
   "source": [
    "#### Proposé par:\n",
    "<tr>Ben Dahmen Ghazi</tr> <br>\n",
    "<tr>Bouarrouj Mohamed Amine</tr> <br>\n",
   ]
  },
  {
   "cell_type": "markdown",
   "metadata": {},
   "source": [
    "## Importation de l'outil pulp et déclaration des variables :"
   ]
  },
  {
   "cell_type": "code",
   "execution_count": 1,
   "metadata": {},
   "outputs": [],
   "source": [
    "import pulp"
   ]
  },
  {
   "cell_type": "code",
   "execution_count": 2,
   "metadata": {},
   "outputs": [],
   "source": [
    "#Salles\n",
    "rooms=['A','B']"
   ]
  },
  {
   "cell_type": "code",
   "execution_count": 3,
   "metadata": {},
   "outputs": [],
   "source": [
    "#Surveillants\n",
    "teachers=['a','b','c','d','a1','b1','c1','d1']"
   ]
  },
  {
   "cell_type": "code",
   "execution_count": 4,
   "metadata": {},
   "outputs": [],
   "source": [
    "#Groupes\n",
    "groups=['DS1','DS2','BI1','BI2']"
   ]
  },
  {
   "cell_type": "code",
   "execution_count": 5,
   "metadata": {},
   "outputs": [],
   "source": [
    "#Examens\n",
    "listexams=['ex1','ex2','ex3','ex4']"
   ]
  },
  {
   "cell_type": "code",
   "execution_count": 6,
   "metadata": {},
   "outputs": [],
   "source": [
    "#Plages horaires\n",
    "#1->4: Day 1 \n",
    "#5->8: Day 2\n",
    "times=list(range(1,9))"
   ]
  },
  {
   "cell_type": "markdown",
   "metadata": {},
   "source": [
    "## Définition du problème de maximisation"
   ]
  },
  {
   "cell_type": "code",
   "execution_count": 7,
   "metadata": {},
   "outputs": [],
   "source": [
    "problem = pulp.LpProblem('conference schedule',sense=pulp.LpMaximize)"
   ]
  },
  {
   "cell_type": "code",
   "execution_count": 8,
   "metadata": {},
   "outputs": [],
   "source": [
    "generated_combinations = {\n",
    "    (group,exam,teacher,time,room):pulp.LpVariable(f'{group} passe {exam} dans salle {room} a la plage horaire {time} surveillé par {teacher}'\n",
    "                                              ,cat=pulp.LpBinary)\n",
    "    for group in groups\n",
    "    for exam in listexams\n",
    "    for room in rooms\n",
    "    for time in times\n",
    "    for teacher in teachers\n",
    "}\n"
   ]
  },
  {
   "cell_type": "markdown",
   "metadata": {},
   "source": [
    " "
   ]
  },
  {
   "cell_type": "markdown",
   "metadata": {},
   "source": [
    "\n",
    "\n",
    "## Contraintes"
   ]
  },
  {
   "cell_type": "markdown",
   "metadata": {},
   "source": [
    "### Contraintes par rapport au surveillants"
   ]
  },
  {
   "cell_type": "markdown",
   "metadata": {},
   "source": [
    "##### Un surveillant ne peut pas faire deux surveillances en meme temps"
   ]
  },
  {
   "cell_type": "code",
   "execution_count": 9,
   "metadata": {},
   "outputs": [],
   "source": [
    "for time in times:\n",
    "    for teacher in teachers:\n",
    "        problem.addConstraint(sum([value for key, value in generated_combinations.items() if key[2] == teacher and key[3] == time]) <= 1)\n",
    "\n"
   ]
  },
  {
   "cell_type": "markdown",
   "metadata": {},
   "source": [
    "##### Un surveillant fait au plus 2 surveillances par jour\n"
   ]
  },
  {
   "cell_type": "code",
   "execution_count": 10,
   "metadata": {},
   "outputs": [],
   "source": [
    "for teacher in teachers:\n",
    "    problem.addConstraint(\n",
    "        sum([value for key, value in generated_combinations.items() if key[2] == teacher]) \n",
    "        <= 2)\n",
    "\n"
   ]
  },
  {
   "cell_type": "markdown",
   "metadata": {},
   "source": [
    "### Contraintes par rapport au groupes"
   ]
  },
  {
   "cell_type": "markdown",
   "metadata": {},
   "source": [
    "##### Un groupe doit passer au moins un examen\n"
   ]
  },
  {
   "cell_type": "code",
   "execution_count": 11,
   "metadata": {},
   "outputs": [],
   "source": [
    "for examen in listexams:\n",
    "    for group in groups:\n",
    "        problem.addConstraint(sum([value for key, value in generated_combinations.items() if key[1] == examen and key[0] == group]) == 1)"
   ]
  },
  {
   "cell_type": "markdown",
   "metadata": {},
   "source": [
    "##### Un groupe ne peut pas passer plus d'un examen sur une plage horaire"
   ]
  },
  {
   "cell_type": "code",
   "execution_count": 12,
   "metadata": {},
   "outputs": [],
   "source": [
    "for time in times:\n",
    "    for group in groups:\n",
    "        problem.addConstraint(sum([value for key, value in generated_combinations.items() if key[3] == time and key[0] == group]) <= 1)"
   ]
  },
  {
   "cell_type": "markdown",
   "metadata": {},
   "source": [
    "##### Un groupe ne peut pas passer plus de 2 examens par jour"
   ]
  },
  {
   "cell_type": "code",
   "execution_count": 13,
   "metadata": {},
   "outputs": [],
   "source": [
    "for time in times:\n",
    "    for group in groups:\n",
    "        if(time in range(1,5)): #Day 1\n",
    "                   problem.addConstraint(sum([value for key, value in generated_combinations.items() if key[3] == time and key[0] == group]) <= 1)\n",
    "        if(time in range(5,9)): #Day 2\n",
    "                   problem.addConstraint(sum([value for key, value in generated_combinations.items() if key[3] == time and key[0] == group]) <= 1)"
   ]
  },
  {
   "cell_type": "markdown",
   "metadata": {},
   "source": [
    "### Contraintes par rapport aux salles"
   ]
  },
  {
   "cell_type": "markdown",
   "metadata": {},
   "source": [
    "##### Ne pas affecter une salle à 2 examens durant une plage horaire \n"
   ]
  },
  {
   "cell_type": "code",
   "execution_count": 14,
   "metadata": {},
   "outputs": [],
   "source": [
    "for time in times:\n",
    "    for room in rooms:\n",
    "        problem.addConstraint(sum([value for key, value in generated_combinations.items() if key[3] == time and key[4] == room]) <= 1)"
   ]
  },
  {
   "cell_type": "markdown",
   "metadata": {},
   "source": [
    " "
   ]
  },
  {
   "cell_type": "markdown",
   "metadata": {},
   "source": [
    "## Résolution du problème"
   ]
  },
  {
   "cell_type": "code",
   "execution_count": 15,
   "metadata": {},
   "outputs": [],
   "source": [
    "problem.solve()\n",
    "sol = []\n",
    "for var in problem.variables():\n",
    "    if var.varValue:\n",
    "        sol.append(var.__str__())\n"
   ]
  },
  {
   "cell_type": "code",
   "execution_count": 22,
   "metadata": {},
   "outputs": [
    {
     "name": "stdout",
     "output_type": "stream",
     "text": [
      "Our problem is Optimal\n",
      "['BI1_passe_ex1_dans_salle_B_a_la_plage_horaire_7_surveillé_par_c1',\n",
      " 'BI1_passe_ex2_dans_salle_A_a_la_plage_horaire_1_surveillé_par_c1',\n",
      " 'BI1_passe_ex3_dans_salle_A_a_la_plage_horaire_8_surveillé_par_b1',\n",
      " 'BI1_passe_ex4_dans_salle_B_a_la_plage_horaire_4_surveillé_par_d1',\n",
      " 'BI2_passe_ex1_dans_salle_A_a_la_plage_horaire_4_surveillé_par_a',\n",
      " 'BI2_passe_ex2_dans_salle_B_a_la_plage_horaire_6_surveillé_par_b1',\n",
      " 'BI2_passe_ex3_dans_salle_B_a_la_plage_horaire_1_surveillé_par_c',\n",
      " 'BI2_passe_ex4_dans_salle_B_a_la_plage_horaire_5_surveillé_par_d',\n",
      " 'DS1_passe_ex1_dans_salle_B_a_la_plage_horaire_8_surveillé_par_b',\n",
      " 'DS1_passe_ex2_dans_salle_A_a_la_plage_horaire_5_surveillé_par_a1',\n",
      " 'DS1_passe_ex3_dans_salle_A_a_la_plage_horaire_2_surveillé_par_d1',\n",
      " 'DS1_passe_ex4_dans_salle_A_a_la_plage_horaire_3_surveillé_par_a',\n",
      " 'DS2_passe_ex1_dans_salle_B_a_la_plage_horaire_2_surveillé_par_d',\n",
      " 'DS2_passe_ex2_dans_salle_B_a_la_plage_horaire_3_surveillé_par_c',\n",
      " 'DS2_passe_ex3_dans_salle_A_a_la_plage_horaire_6_surveillé_par_a1',\n",
      " 'DS2_passe_ex4_dans_salle_A_a_la_plage_horaire_7_surveillé_par_b']\n"
     ]
    }
   ],
   "source": [
    "import pprint\n",
    "print('Our problem is '+pulp.LpStatus[problem.status])\n",
    "if problem.status:\n",
    "    pprint.pprint(sol)"
   ]
  }
 ],
 "metadata": {
  "kernelspec": {
   "display_name": "Python 3",
   "language": "python",
   "name": "python3"
  },
  "language_info": {
   "codemirror_mode": {
    "name": "ipython",
    "version": 3
   },
   "file_extension": ".py",
   "mimetype": "text/x-python",
   "name": "python",
   "nbconvert_exporter": "python",
   "pygments_lexer": "ipython3",
   "version": "3.6.8"
  }
 },
 "nbformat": 4,
 "nbformat_minor": 2
}
